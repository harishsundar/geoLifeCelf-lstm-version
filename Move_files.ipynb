{
 "cells": [
  {
   "cell_type": "code",
   "execution_count": 24,
   "metadata": {
    "colab": {
     "base_uri": "https://localhost:8080/",
     "height": 229
    },
    "colab_type": "code",
    "id": "5MoJZnXArO6_",
    "outputId": "21a7f862-53cb-4668-d77c-c668f434441e"
   },
   "outputs": [],
   "source": [
    "\n",
    "import os\n",
    "import shutil\n",
    "import glob\n",
    "import csv\n",
    "import pandas as pd\n",
    "def moveAllFilesinDir(srcDir, dstDir):\n",
    "    if os.path.isdir(srcDir) and os.path.isdir(dstDir) :\n",
    "        for filePath in glob.glob(srcDir + '\\*'):\n",
    "            shutil.move(filePath, dstDir);\n",
    "    else:\n",
    "        print(\"srcDir & dstDir should be Directories\")\n",
    "def name_reducer(name):\n",
    "    numbers = [int(i) for i in list(name) if i.isdigit()]\n",
    "    power=1\n",
    "    total=0\n",
    "    for i in reversed(numbers):\n",
    "        total=total + i * power\n",
    "        power*=10\n",
    "        \n",
    "    return total"
   ]
  },
  {
   "cell_type": "code",
   "execution_count": 25,
   "metadata": {},
   "outputs": [
    {
     "name": "stdout",
     "output_type": "stream",
     "text": [
      "D:\\fyp\\Testing\\1024\n",
      "None\n",
      "D:\\fyp\\Testing\\1280\n",
      "None\n",
      "D:\\fyp\\Testing\\1536\n",
      "None\n",
      "D:\\fyp\\Testing\\1792\n",
      "None\n",
      "D:\\fyp\\Testing\\2048\n",
      "None\n",
      "D:\\fyp\\Testing\\2304\n",
      "None\n",
      "D:\\fyp\\Testing\\256\n",
      "None\n",
      "D:\\fyp\\Testing\\2560\n",
      "None\n",
      "D:\\fyp\\Testing\\2816\n",
      "None\n",
      "D:\\fyp\\Testing\\3072\n",
      "None\n",
      "D:\\fyp\\Testing\\3328\n",
      "None\n",
      "D:\\fyp\\Testing\\3584\n",
      "None\n",
      "D:\\fyp\\Testing\\3840\n",
      "None\n",
      "D:\\fyp\\Testing\\4096\n",
      "None\n",
      "D:\\fyp\\Testing\\512\n",
      "None\n",
      "D:\\fyp\\Testing\\768\n",
      "None\n"
     ]
    }
   ],
   "source": [
    "#Moving the files from folders into the main directory \n",
    "\n",
    "source='D:\\\\fyp\\\\Testing'\n",
    "destination='D:\\\\fyp\\\\Testing'\n",
    "for files in os.listdir(source):\n",
    "    folder_source=source+\"\\\\\"+files\n",
    "    print(folder_source)\n",
    "    newPath = moveAllFilesinDir(folder_source,destination)\n",
    "    print(newPath)"
   ]
  },
  {
   "cell_type": "code",
   "execution_count": 26,
   "metadata": {
    "colab": {
     "base_uri": "https://localhost:8080/",
     "height": 421
    },
    "colab_type": "code",
    "id": "Ml0NxSuWrX37",
    "outputId": "2b0cf3c3-9c7e-4d4d-facb-1869cad9bff5"
   },
   "outputs": [],
   "source": [
    "#Deleting the folders\n",
    "\n",
    "path=\"D:\\\\fyp\\\\testing\"\n",
    "for dir in os.listdir(path):\n",
    "    dir_path=path+\"\\\\\"+dir\n",
    "  #  print(dir_path)\n",
    "    if os.path.isdir(dir_path):\n",
    "        os.rmdir(dir_path)"
   ]
  },
  {
   "cell_type": "code",
   "execution_count": 27,
   "metadata": {},
   "outputs": [
    {
     "ename": "FileNotFoundError",
     "evalue": "[Errno 2] No such file or directory: 'D:\\\\fyp\\\\testing\\\\patch_4097.tif'",
     "output_type": "error",
     "traceback": [
      "\u001b[1;31m---------------------------------------------------------------------------\u001b[0m",
      "\u001b[1;31mFileNotFoundError\u001b[0m                         Traceback (most recent call last)",
      "\u001b[1;32m~\\Anaconda3\\lib\\shutil.py\u001b[0m in \u001b[0;36mmove\u001b[1;34m(src, dst, copy_function)\u001b[0m\n\u001b[0;32m    565\u001b[0m     \u001b[1;32mtry\u001b[0m\u001b[1;33m:\u001b[0m\u001b[1;33m\u001b[0m\u001b[1;33m\u001b[0m\u001b[0m\n\u001b[1;32m--> 566\u001b[1;33m         \u001b[0mos\u001b[0m\u001b[1;33m.\u001b[0m\u001b[0mrename\u001b[0m\u001b[1;33m(\u001b[0m\u001b[0msrc\u001b[0m\u001b[1;33m,\u001b[0m \u001b[0mreal_dst\u001b[0m\u001b[1;33m)\u001b[0m\u001b[1;33m\u001b[0m\u001b[1;33m\u001b[0m\u001b[0m\n\u001b[0m\u001b[0;32m    567\u001b[0m     \u001b[1;32mexcept\u001b[0m \u001b[0mOSError\u001b[0m\u001b[1;33m:\u001b[0m\u001b[1;33m\u001b[0m\u001b[1;33m\u001b[0m\u001b[0m\n",
      "\u001b[1;31mFileNotFoundError\u001b[0m: [WinError 2] The system cannot find the file specified: 'D:\\\\fyp\\\\testing\\\\patch_4097.tif' -> 'D:\\\\fyp\\\\testing\\\\Magnoliopsida\\\\patch_4097.tif'",
      "\nDuring handling of the above exception, another exception occurred:\n",
      "\u001b[1;31mFileNotFoundError\u001b[0m                         Traceback (most recent call last)",
      "\u001b[1;32m<ipython-input-27-79e26f3a2edd>\u001b[0m in \u001b[0;36m<module>\u001b[1;34m\u001b[0m\n\u001b[0;32m     10\u001b[0m     \u001b[1;32mif\u001b[0m\u001b[1;33m(\u001b[0m\u001b[0mos\u001b[0m\u001b[1;33m.\u001b[0m\u001b[0mpath\u001b[0m\u001b[1;33m.\u001b[0m\u001b[0misdir\u001b[0m\u001b[1;33m(\u001b[0m\u001b[0mdir_path\u001b[0m\u001b[1;33m)\u001b[0m\u001b[1;33m)\u001b[0m\u001b[1;33m:\u001b[0m\u001b[1;33m\u001b[0m\u001b[1;33m\u001b[0m\u001b[0m\n\u001b[0;32m     11\u001b[0m         \u001b[1;31m#print(file_path)\u001b[0m\u001b[1;33m\u001b[0m\u001b[1;33m\u001b[0m\u001b[1;33m\u001b[0m\u001b[0m\n\u001b[1;32m---> 12\u001b[1;33m         \u001b[0mshutil\u001b[0m\u001b[1;33m.\u001b[0m\u001b[0mmove\u001b[0m\u001b[1;33m(\u001b[0m\u001b[0mfile_path\u001b[0m\u001b[1;33m,\u001b[0m \u001b[0mdir_path\u001b[0m\u001b[1;33m)\u001b[0m\u001b[1;33m\u001b[0m\u001b[1;33m\u001b[0m\u001b[0m\n\u001b[0m\u001b[0;32m     13\u001b[0m     \u001b[1;32melse\u001b[0m\u001b[1;33m:\u001b[0m\u001b[1;33m\u001b[0m\u001b[1;33m\u001b[0m\u001b[0m\n\u001b[0;32m     14\u001b[0m         \u001b[1;31m#print(file_path)\u001b[0m\u001b[1;33m\u001b[0m\u001b[1;33m\u001b[0m\u001b[1;33m\u001b[0m\u001b[0m\n",
      "\u001b[1;32m~\\Anaconda3\\lib\\shutil.py\u001b[0m in \u001b[0;36mmove\u001b[1;34m(src, dst, copy_function)\u001b[0m\n\u001b[0;32m    578\u001b[0m             \u001b[0mrmtree\u001b[0m\u001b[1;33m(\u001b[0m\u001b[0msrc\u001b[0m\u001b[1;33m)\u001b[0m\u001b[1;33m\u001b[0m\u001b[1;33m\u001b[0m\u001b[0m\n\u001b[0;32m    579\u001b[0m         \u001b[1;32melse\u001b[0m\u001b[1;33m:\u001b[0m\u001b[1;33m\u001b[0m\u001b[1;33m\u001b[0m\u001b[0m\n\u001b[1;32m--> 580\u001b[1;33m             \u001b[0mcopy_function\u001b[0m\u001b[1;33m(\u001b[0m\u001b[0msrc\u001b[0m\u001b[1;33m,\u001b[0m \u001b[0mreal_dst\u001b[0m\u001b[1;33m)\u001b[0m\u001b[1;33m\u001b[0m\u001b[1;33m\u001b[0m\u001b[0m\n\u001b[0m\u001b[0;32m    581\u001b[0m             \u001b[0mos\u001b[0m\u001b[1;33m.\u001b[0m\u001b[0munlink\u001b[0m\u001b[1;33m(\u001b[0m\u001b[0msrc\u001b[0m\u001b[1;33m)\u001b[0m\u001b[1;33m\u001b[0m\u001b[1;33m\u001b[0m\u001b[0m\n\u001b[0;32m    582\u001b[0m     \u001b[1;32mreturn\u001b[0m \u001b[0mreal_dst\u001b[0m\u001b[1;33m\u001b[0m\u001b[1;33m\u001b[0m\u001b[0m\n",
      "\u001b[1;32m~\\Anaconda3\\lib\\shutil.py\u001b[0m in \u001b[0;36mcopy2\u001b[1;34m(src, dst, follow_symlinks)\u001b[0m\n\u001b[0;32m    264\u001b[0m     \u001b[1;32mif\u001b[0m \u001b[0mos\u001b[0m\u001b[1;33m.\u001b[0m\u001b[0mpath\u001b[0m\u001b[1;33m.\u001b[0m\u001b[0misdir\u001b[0m\u001b[1;33m(\u001b[0m\u001b[0mdst\u001b[0m\u001b[1;33m)\u001b[0m\u001b[1;33m:\u001b[0m\u001b[1;33m\u001b[0m\u001b[1;33m\u001b[0m\u001b[0m\n\u001b[0;32m    265\u001b[0m         \u001b[0mdst\u001b[0m \u001b[1;33m=\u001b[0m \u001b[0mos\u001b[0m\u001b[1;33m.\u001b[0m\u001b[0mpath\u001b[0m\u001b[1;33m.\u001b[0m\u001b[0mjoin\u001b[0m\u001b[1;33m(\u001b[0m\u001b[0mdst\u001b[0m\u001b[1;33m,\u001b[0m \u001b[0mos\u001b[0m\u001b[1;33m.\u001b[0m\u001b[0mpath\u001b[0m\u001b[1;33m.\u001b[0m\u001b[0mbasename\u001b[0m\u001b[1;33m(\u001b[0m\u001b[0msrc\u001b[0m\u001b[1;33m)\u001b[0m\u001b[1;33m)\u001b[0m\u001b[1;33m\u001b[0m\u001b[1;33m\u001b[0m\u001b[0m\n\u001b[1;32m--> 266\u001b[1;33m     \u001b[0mcopyfile\u001b[0m\u001b[1;33m(\u001b[0m\u001b[0msrc\u001b[0m\u001b[1;33m,\u001b[0m \u001b[0mdst\u001b[0m\u001b[1;33m,\u001b[0m \u001b[0mfollow_symlinks\u001b[0m\u001b[1;33m=\u001b[0m\u001b[0mfollow_symlinks\u001b[0m\u001b[1;33m)\u001b[0m\u001b[1;33m\u001b[0m\u001b[1;33m\u001b[0m\u001b[0m\n\u001b[0m\u001b[0;32m    267\u001b[0m     \u001b[0mcopystat\u001b[0m\u001b[1;33m(\u001b[0m\u001b[0msrc\u001b[0m\u001b[1;33m,\u001b[0m \u001b[0mdst\u001b[0m\u001b[1;33m,\u001b[0m \u001b[0mfollow_symlinks\u001b[0m\u001b[1;33m=\u001b[0m\u001b[0mfollow_symlinks\u001b[0m\u001b[1;33m)\u001b[0m\u001b[1;33m\u001b[0m\u001b[1;33m\u001b[0m\u001b[0m\n\u001b[0;32m    268\u001b[0m     \u001b[1;32mreturn\u001b[0m \u001b[0mdst\u001b[0m\u001b[1;33m\u001b[0m\u001b[1;33m\u001b[0m\u001b[0m\n",
      "\u001b[1;32m~\\Anaconda3\\lib\\shutil.py\u001b[0m in \u001b[0;36mcopyfile\u001b[1;34m(src, dst, follow_symlinks)\u001b[0m\n\u001b[0;32m    118\u001b[0m         \u001b[0mos\u001b[0m\u001b[1;33m.\u001b[0m\u001b[0msymlink\u001b[0m\u001b[1;33m(\u001b[0m\u001b[0mos\u001b[0m\u001b[1;33m.\u001b[0m\u001b[0mreadlink\u001b[0m\u001b[1;33m(\u001b[0m\u001b[0msrc\u001b[0m\u001b[1;33m)\u001b[0m\u001b[1;33m,\u001b[0m \u001b[0mdst\u001b[0m\u001b[1;33m)\u001b[0m\u001b[1;33m\u001b[0m\u001b[1;33m\u001b[0m\u001b[0m\n\u001b[0;32m    119\u001b[0m     \u001b[1;32melse\u001b[0m\u001b[1;33m:\u001b[0m\u001b[1;33m\u001b[0m\u001b[1;33m\u001b[0m\u001b[0m\n\u001b[1;32m--> 120\u001b[1;33m         \u001b[1;32mwith\u001b[0m \u001b[0mopen\u001b[0m\u001b[1;33m(\u001b[0m\u001b[0msrc\u001b[0m\u001b[1;33m,\u001b[0m \u001b[1;34m'rb'\u001b[0m\u001b[1;33m)\u001b[0m \u001b[1;32mas\u001b[0m \u001b[0mfsrc\u001b[0m\u001b[1;33m:\u001b[0m\u001b[1;33m\u001b[0m\u001b[1;33m\u001b[0m\u001b[0m\n\u001b[0m\u001b[0;32m    121\u001b[0m             \u001b[1;32mwith\u001b[0m \u001b[0mopen\u001b[0m\u001b[1;33m(\u001b[0m\u001b[0mdst\u001b[0m\u001b[1;33m,\u001b[0m \u001b[1;34m'wb'\u001b[0m\u001b[1;33m)\u001b[0m \u001b[1;32mas\u001b[0m \u001b[0mfdst\u001b[0m\u001b[1;33m:\u001b[0m\u001b[1;33m\u001b[0m\u001b[1;33m\u001b[0m\u001b[0m\n\u001b[0;32m    122\u001b[0m                 \u001b[0mcopyfileobj\u001b[0m\u001b[1;33m(\u001b[0m\u001b[0mfsrc\u001b[0m\u001b[1;33m,\u001b[0m \u001b[0mfdst\u001b[0m\u001b[1;33m)\u001b[0m\u001b[1;33m\u001b[0m\u001b[1;33m\u001b[0m\u001b[0m\n",
      "\u001b[1;31mFileNotFoundError\u001b[0m: [Errno 2] No such file or directory: 'D:\\\\fyp\\\\testing\\\\patch_4097.tif'"
     ]
    }
   ],
   "source": [
    "#Sorting the tiff files into their respective classes\n",
    "\n",
    "path=\"D:\\\\fyp\\\\testing\"\n",
    "#fil_path=\"D:\\\\fyp\"\n",
    "csv_path=\"D:\\\\fyp\\Dataset\\\\occurrences_train.csv\"\n",
    "df = pd.read_csv(csv_path,sep = ';', error_bad_lines=False)\n",
    "for i in range(1,4097):\n",
    "    dir_path=path+\"\\\\\"+df['class'][i] \n",
    "    file_path=path+\"\\patch_\"+str(i)+\".tif\"\n",
    "    if(os.path.isdir(dir_path)):\n",
    "        #print(file_path)\n",
    "        shutil.move(file_path, dir_path)\n",
    "    else:\n",
    "        #print(file_path)\n",
    "        os.makedirs(dir_path)\n",
    "        shutil.move(file_path, dir_path)\n",
    "#saved_column = df.phylum\n",
    "#print(saved_column)"
   ]
  },
  {
   "cell_type": "code",
   "execution_count": 21,
   "metadata": {},
   "outputs": [
    {
     "name": "stdout",
     "output_type": "stream",
     "text": [
      "['D:', 'fyp', 'testing']\n"
     ]
    }
   ],
   "source": [
    "path=\"D:\\\\fyp\\\\testing\"\n",
    "y = path.split(\"\\\\\")\n",
    "print(y)\n",
    "# o = int(y[2])\n",
    "# f = int(y[1])\n",
    "\n",
    "# print(o,f)"
   ]
  },
  {
   "cell_type": "code",
   "execution_count": 28,
   "metadata": {},
   "outputs": [],
   "source": [
    "#Sorting the classes into their respective orders,families,genuses(geni?) and species\n",
    "#Fucking hell I did it\n",
    "\n",
    "path=\"D:\\\\fyp\\\\testing\"\n",
    "csv_path=\"D:\\\\fyp\\Dataset\\\\occurrences_train.csv\"\n",
    "df = pd.read_csv(csv_path,sep = ';', error_bad_lines=False)\n",
    "for folder in os.listdir(path):\n",
    "    class_folder=path+\"\\\\\"+folder\n",
    "    for a in os.listdir(class_folder):\n",
    "    #    print(name_reducer(a))\n",
    "        tifffile_path=class_folder+\"\\\\\"+a\n",
    "        curr_path=class_folder+\"\\\\\"+df['order'][name_reducer(a)-1]\n",
    "        if(not os.path.isdir(curr_path)):\n",
    "            os.makedirs(curr_path)\n",
    "        curr_path=curr_path+\"\\\\\"+df['family'][name_reducer(a)-1]\n",
    "        if(not os.path.isdir(curr_path)):\n",
    "            os.makedirs(curr_path)\n",
    "        curr_path=curr_path+\"\\\\\"+df['genus'][name_reducer(a)-1]\n",
    "        if(not os.path.isdir(curr_path)):\n",
    "            os.makedirs(curr_path)\n",
    "        curr_path=curr_path+\"\\\\\"+df['species'][name_reducer(a)-1]    \n",
    "        if(not os.path.isdir(curr_path)):\n",
    "            os.makedirs(curr_path)\n",
    "        shutil.move(tifffile_path, curr_path) \n",
    "            \n",
    "            \n",
    "        \n",
    "    \n"
   ]
  },
  {
   "cell_type": "code",
   "execution_count": 6,
   "metadata": {},
   "outputs": [],
   "source": [
    "#converting the directory path into a dictionary \n",
    "\n",
    "import os\n",
    "import functools\n",
    "import pickle\n",
    "\n",
    "def get_directory_structure(rootdir):\n",
    "    \"\"\"\n",
    "    Creates a nested dictionary that represents the folder structure of rootdir\n",
    "    \"\"\"\n",
    "    dir = {}\n",
    "    rootdir = rootdir.rstrip(os.sep)\n",
    "    start = rootdir.rfind(os.sep) + 1\n",
    "    for path, dirs, files in os.walk(rootdir):\n",
    "        folders = path[start:].split(os.sep)\n",
    "        subdir = dict.fromkeys(files)\n",
    "        parent = functools.reduce(dict.get, folders[:-1], dir)\n",
    "        parent[folders[-1]] = subdir\n",
    "    return dir\n",
    "dir=get_directory_structure(\"D:\\\\fyp\\\\Testing\")\n",
    "pickle.dump( dir, open( \"D:\\\\fyp\\Testing\\\\save.pkl\", \"wb\" ) )"
   ]
  },
  {
   "cell_type": "code",
   "execution_count": 15,
   "metadata": {},
   "outputs": [
    {
     "name": "stdout",
     "output_type": "stream",
     "text": [
      "Testing\n",
      "Testing\n",
      "Testing\n",
      "Testing\n",
      "Testing\n",
      "Testing\n"
     ]
    }
   ],
   "source": [
    "import pickle\n",
    "dir = pickle.load( open(\"D:\\\\fyp\\\\Dataset\\\\save.pkl\", \"rb\" ))\n",
    "#print(dir)\n",
    "for cls in dir.keys():\n",
    "    for order in dir[cls].keys():\n",
    "       # print(order)\n",
    "        print(cls)"
   ]
  },
  {
   "cell_type": "code",
   "execution_count": 4,
   "metadata": {},
   "outputs": [
    {
     "name": "stdout",
     "output_type": "stream",
     "text": [
      "['Magnoliopsida' 'Liliopsida' 'Polypodiopsida' 'Pinopsida' 'Psilotopsida'\n",
      " 'Equisetopsida' 'Lycopodiopsida' 'Gnetopsida' 'Ginkgoopsida'\n",
      " 'Cycadopsida']\n"
     ]
    },
    {
     "ename": "TypeError",
     "evalue": "unsupported operand type(s) for -: 'str' and 'str'",
     "output_type": "error",
     "traceback": [
      "\u001b[1;31m---------------------------------------------------------------------------\u001b[0m",
      "\u001b[1;31mTypeError\u001b[0m                                 Traceback (most recent call last)",
      "\u001b[1;32m<ipython-input-4-85ead0b8e4b2>\u001b[0m in \u001b[0;36m<module>\u001b[1;34m\u001b[0m\n\u001b[0;32m      4\u001b[0m \u001b[0mexample_dict\u001b[0m \u001b[1;33m=\u001b[0m \u001b[0mpickle\u001b[0m\u001b[1;33m.\u001b[0m\u001b[0mload\u001b[0m\u001b[1;33m(\u001b[0m\u001b[0mpickle_in\u001b[0m\u001b[1;33m)\u001b[0m\u001b[1;33m\u001b[0m\u001b[1;33m\u001b[0m\u001b[0m\n\u001b[0;32m      5\u001b[0m \u001b[0mprint\u001b[0m\u001b[1;33m(\u001b[0m\u001b[0mexample_dict\u001b[0m\u001b[1;33m)\u001b[0m\u001b[1;33m\u001b[0m\u001b[1;33m\u001b[0m\u001b[0m\n\u001b[1;32m----> 6\u001b[1;33m \u001b[0mhar\u001b[0m\u001b[1;33m=\u001b[0m\u001b[1;34m\"hari\"\u001b[0m\u001b[1;33m-\u001b[0m\u001b[1;34m\"har\"\u001b[0m\u001b[1;33m\u001b[0m\u001b[1;33m\u001b[0m\u001b[0m\n\u001b[0m\u001b[0;32m      7\u001b[0m \u001b[0mprint\u001b[0m\u001b[1;33m(\u001b[0m\u001b[0mhar\u001b[0m\u001b[1;33m)\u001b[0m\u001b[1;33m\u001b[0m\u001b[1;33m\u001b[0m\u001b[0m\n",
      "\u001b[1;31mTypeError\u001b[0m: unsupported operand type(s) for -: 'str' and 'str'"
     ]
    }
   ],
   "source": [
    "import pickle\n",
    "path_pickle=\"D:\\\\fyp\\\\unique_classes.pkl\"\n",
    "pickle_in = open(path_pickle,\"rb\")\n",
    "example_dict = pickle.load(pickle_in)\n",
    "print(example_dict)"
   ]
  }
 ],
 "metadata": {
  "colab": {
   "name": "Move files.ipynb",
   "provenance": []
  },
  "kernelspec": {
   "display_name": "Python 3",
   "language": "python",
   "name": "python3"
  },
  "language_info": {
   "codemirror_mode": {
    "name": "ipython",
    "version": 3
   },
   "file_extension": ".py",
   "mimetype": "text/x-python",
   "name": "python",
   "nbconvert_exporter": "python",
   "pygments_lexer": "ipython3",
   "version": "3.7.4"
  }
 },
 "nbformat": 4,
 "nbformat_minor": 1
}
