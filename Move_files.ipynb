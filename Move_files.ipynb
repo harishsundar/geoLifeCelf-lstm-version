{
 "cells": [
  {
   "cell_type": "code",
   "execution_count": null,
   "metadata": {
    "colab": {
     "base_uri": "https://localhost:8080/",
     "height": 229
    },
    "colab_type": "code",
    "id": "5MoJZnXArO6_",
    "outputId": "21a7f862-53cb-4668-d77c-c668f434441e"
   },
   "outputs": [],
   "source": [
    "\n",
    "import os\n",
    "import shutil\n",
    "import glob\n",
    "import csv\n",
    "import pandas as pd\n",
    "def moveAllFilesinDir(srcDir, dstDir):\n",
    "    if os.path.isdir(srcDir) and os.path.isdir(dstDir) :\n",
    "        for filePath in glob.glob(srcDir + '\\*'):\n",
    "            shutil.move(filePath, dstDir);\n",
    "    else:\n",
    "        print(\"srcDir & dstDir should be Directories\")\n",
    "def name_reducer(name):\n",
    "    numbers = [int(i) for i in list(name) if i.isdigit()]\n",
    "    power=1\n",
    "    total=0\n",
    "    for i in reversed(numbers):\n",
    "        total=total + i * power\n",
    "        power*=10\n",
    "        \n",
    "    return total"
   ]
  },
  {
   "cell_type": "code",
   "execution_count": null,
   "metadata": {},
   "outputs": [],
   "source": [
    "import os, os.path\n",
    "\n",
    "for species in os.listdir(\"D:\\\\fyp\\\\CNN_data\\\\patchTrain\"):\n",
    "    path=\"D:\\\\fyp\\\\CNN_data\\\\patchTrain\\\\\"+species\n",
    "    a=[name for name in os.listdir(path)]\n",
    "    if(len(a)>30):\n",
    "        print(path)"
   ]
  },
  {
   "cell_type": "code",
   "execution_count": null,
   "metadata": {},
   "outputs": [],
   "source": [
    "#Moving the files from folders into the main directory \n",
    "\n",
    "source='D:\\\\fyp\\Code\\patchTrain'\n",
    "destination='D:\\\\fyp\\Code\\patchTrain'\n",
    "for files in os.listdir(source):\n",
    "    folder_source=source+\"\\\\\"+files\n",
    "    print(folder_source)\n",
    "    newPath = moveAllFilesinDir(folder_source,destination)\n",
    "    print(newPath)"
   ]
  },
  {
   "cell_type": "code",
   "execution_count": null,
   "metadata": {
    "colab": {
     "base_uri": "https://localhost:8080/",
     "height": 421
    },
    "colab_type": "code",
    "id": "Ml0NxSuWrX37",
    "outputId": "2b0cf3c3-9c7e-4d4d-facb-1869cad9bff5"
   },
   "outputs": [],
   "source": [
    "#Deleting the folders\n",
    "\n",
    "path=\"D:\\\\fyp\\Code\\patchTrain\"\n",
    "for dir in os.listdir(path):\n",
    "    dir_path=path+\"\\\\\"+dir\n",
    "  #  print(dir_path)\n",
    "    if os.path.isdir(dir_path):\n",
    "        os.rmdir(dir_path)"
   ]
  },
  {
   "cell_type": "code",
   "execution_count": null,
   "metadata": {},
   "outputs": [],
   "source": [
    "#Sorting the tiff files into their respective classes\n",
    "\n",
    "#path=\"D:\\\\fyp\\\\Patchtest\"\n",
    "path=\"D:\\\\fyp\\Code\\patchTrain\"\n",
    "#fil_path=\"D:\\\\fyp\"\n",
    "csv_path=\"D:\\\\fyp\\Dataset\\\\occurrences_train.csv\"\n",
    "df = pd.read_csv(csv_path,sep = ';', error_bad_lines=False)\n",
    "# for i in range(1281,4097):\n",
    "#     dir_path=path+\"\\\\\"+df['species'][i] \n",
    "#     file_path=path+\"\\patch_\"+str(i)+\".tif\"\n",
    "#     if(os.path.isdir(dir_path)):\n",
    "#         #print(file_path)\n",
    "#         shutil.move(file_path, dir_path)\n",
    "#     else:\n",
    "#         #print(file_path)\n",
    "#         os.makedirs(dir_path)\n",
    "#         shutil.move(file_path, dir_path)\n",
    "        \n",
    "for i in os.listdir(path):\n",
    "    num=i[6:]\n",
    "    num = num[:-4]\n",
    "  #  print(num)\n",
    "    dir_path=path+\"\\\\\"+df['class'][int(num)] \n",
    "    file_path=path+\"\\\\\"+i\n",
    "    if(os.path.isdir(dir_path)):\n",
    "        #print(file_path)\n",
    "        shutil.move(file_path, dir_path)\n",
    "    else:\n",
    "        #print(file_path)\n",
    "        os.makedirs(dir_path)\n",
    "        shutil.move(file_path, dir_path)\n",
    "\n"
   ]
  },
  {
   "cell_type": "code",
   "execution_count": null,
   "metadata": {},
   "outputs": [],
   "source": [
    "path=\"D:\\\\fyp\\\\testing\"\n",
    "y = path.split(\"\\\\\")\n",
    "print(y)\n",
    "# o = int(y[2])\n",
    "# f = int(y[1])\n",
    "\n",
    "# print(o,f)"
   ]
  },
  {
   "cell_type": "code",
   "execution_count": null,
   "metadata": {},
   "outputs": [],
   "source": [
    "#Sorting the classes into their respective orders,families,genuses(geni?) and species\n",
    "\n",
    "\n",
    "path=\"D:\\\\fyp\\Code\\patchTrain\"\n",
    "csv_path=\"D:\\\\fyp\\Dataset\\\\occurrences_train.csv\"\n",
    "df = pd.read_csv(csv_path,sep = ';', error_bad_lines=False)\n",
    "for folder in os.listdir(path):\n",
    "    class_folder=path+\"\\\\\"+folder\n",
    "    for a in os.listdir(class_folder):\n",
    "    #    print(name_reducer(a))\n",
    "        tifffile_path=class_folder+\"\\\\\"+a\n",
    "        curr_path=class_folder+\"\\\\\"+df['order'][name_reducer(a)-1]\n",
    "        if(not os.path.isdir(curr_path)):\n",
    "            os.makedirs(curr_path)\n",
    "        curr_path=curr_path+\"\\\\\"+df['family'][name_reducer(a)-1]\n",
    "        if(not os.path.isdir(curr_path)):\n",
    "            os.makedirs(curr_path)\n",
    "        curr_path=curr_path+\"\\\\\"+df['genus'][name_reducer(a)-1]\n",
    "        if(not os.path.isdir(curr_path)):\n",
    "            os.makedirs(curr_path)\n",
    "        curr_path=curr_path+\"\\\\\"+df['species'][name_reducer(a)-1]    \n",
    "        if(not os.path.isdir(curr_path)):\n",
    "            os.makedirs(curr_path)\n",
    "        shutil.move(tifffile_path, curr_path) \n",
    "            \n",
    "            \n",
    "        \n",
    "    \n"
   ]
  },
  {
   "cell_type": "code",
   "execution_count": null,
   "metadata": {},
   "outputs": [],
   "source": [
    "#converting the directory path into a dictionary \n",
    "\n",
    "import os\n",
    "import functools\n",
    "import pickle\n",
    "\n",
    "def get_directory_structure(rootdir):\n",
    "    \"\"\"\n",
    "    Creates a nested dictionary that represents the folder structure of rootdir\n",
    "    \"\"\"\n",
    "    dir = {}\n",
    "    rootdir = rootdir.rstrip(os.sep)\n",
    "    start = rootdir.rfind(os.sep) + 1\n",
    "    for path, dirs, files in os.walk(rootdir):\n",
    "        folders = path[start:].split(os.sep)\n",
    "        subdir = dict.fromkeys(files)\n",
    "        parent = functools.reduce(dict.get, folders[:-1], dir)\n",
    "        parent[folders[-1]] = subdir\n",
    "    return dir\n",
    "dir=get_directory_structure(\"D:\\\\fyp\\\\Patchtest\")\n",
    "pickle.dump( dir, open( \"D:\\\\fyp\\\\Dataset\\\\save_test.pkl\", \"wb\" ) )"
   ]
  },
  {
   "cell_type": "code",
   "execution_count": null,
   "metadata": {},
   "outputs": [],
   "source": [
    "import pickle\n",
    "dir = pickle.load( open(\"D:\\\\fyp\\\\Dataset\\\\save.pkl\", \"rb\" ))\n",
    "#print(dir)\n",
    "for cls in dir.keys():\n",
    "    for order in dir[cls].keys():\n",
    "       # print(order)\n",
    "        print(order)"
   ]
  },
  {
   "cell_type": "code",
   "execution_count": null,
   "metadata": {},
   "outputs": [],
   "source": [
    "import pickle\n",
    "path_pickle=\"D:\\\\fyp\\\\unique_classes.pkl\"\n",
    "pickle_in = open(path_pickle,\"rb\")\n",
    "example_dict = pickle.load(pickle_in)\n",
    "print(example_dict)"
   ]
  },
  {
   "cell_type": "code",
   "execution_count": null,
   "metadata": {},
   "outputs": [],
   "source": []
  }
 ],
 "metadata": {
  "colab": {
   "name": "Move files.ipynb",
   "provenance": []
  },
  "kernelspec": {
   "display_name": "Python 3",
   "language": "python",
   "name": "python3"
  },
  "language_info": {
   "codemirror_mode": {
    "name": "ipython",
    "version": 3
   },
   "file_extension": ".py",
   "mimetype": "text/x-python",
   "name": "python",
   "nbconvert_exporter": "python",
   "pygments_lexer": "ipython3",
   "version": "3.7.4"
  }
 },
 "nbformat": 4,
 "nbformat_minor": 1
}
